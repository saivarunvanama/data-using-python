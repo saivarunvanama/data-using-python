{
  "nbformat": 4,
  "nbformat_minor": 0,
  "metadata": {
    "colab": {
      "provenance": [],
      "authorship_tag": "ABX9TyOCcQEpE4aAmO6YDBvOTLR2",
      "include_colab_link": true
    },
    "kernelspec": {
      "name": "python3",
      "display_name": "Python 3"
    },
    "language_info": {
      "name": "python"
    }
  },
  "cells": [
    {
      "cell_type": "markdown",
      "metadata": {
        "id": "view-in-github",
        "colab_type": "text"
      },
      "source": [
        "<a href=\"https://colab.research.google.com/github/saivarunvanama/data-using-python/blob/main/Copy_of_week1_wednesday.ipynb\" target=\"_parent\"><img src=\"https://colab.research.google.com/assets/colab-badge.svg\" alt=\"Open In Colab\"/></a>"
      ]
    },
    {
      "cell_type": "code",
      "execution_count": null,
      "metadata": {
        "id": "-PTzkjHYvS8h"
      },
      "outputs": [],
      "source": []
    },
    {
      "cell_type": "markdown",
      "metadata": {
        "id": "f9829bd5"
      },
      "source": [
        "# Task\n",
        "Analyze and categorize student grades as \"Pass\" or \"Fail\" based on a passing score of 50 using Python libraries like pandas and numpy."
      ]
    },
    {
      "cell_type": "markdown",
      "metadata": {
        "id": "95cbc769"
      },
      "source": [
        "## Data creation\n",
        "\n",
        "### Subtask:\n",
        "Create a list or numpy array of 10 student grades.\n"
      ]
    },
    {
      "cell_type": "markdown",
      "metadata": {
        "id": "2dad5a79"
      },
      "source": [
        "**Reasoning**:\n",
        "Create a list of 10 grades and convert it to a NumPy array.\n",
        "\n"
      ]
    },
    {
      "cell_type": "code",
      "metadata": {
        "colab": {
          "base_uri": "https://localhost:8080/"
        },
        "id": "089d1b6e",
        "outputId": "12e8f9c6-d659-47f7-f40e-97035e5a5dd1"
      },
      "source": [
        "import numpy as np\n",
        "\n",
        "grades_list = [75, 82, 45, 91, 63, 50, 30, 88, 70, 55]\n",
        "grades_array = np.array(grades_list)\n",
        "\n",
        "print(\"Grades List:\", grades_list)\n",
        "print(\"Grades Array:\", grades_array)"
      ],
      "execution_count": null,
      "outputs": [
        {
          "output_type": "stream",
          "name": "stdout",
          "text": [
            "Grades List: [75, 82, 45, 91, 63, 50, 30, 88, 70, 55]\n",
            "Grades Array: [75 82 45 91 63 50 30 88 70 55]\n"
          ]
        }
      ]
    },
    {
      "cell_type": "markdown",
      "metadata": {
        "id": "07771fd9"
      },
      "source": [
        "## Data categorization\n",
        "\n",
        "### Subtask:\n",
        "Convert the grades into a categorical array with \"Pass\" or \"Fail\" labels based on the passing score of 50.\n"
      ]
    },
    {
      "cell_type": "markdown",
      "metadata": {
        "id": "16d3a226"
      },
      "source": [
        "**Reasoning**:\n",
        "Create the boolean array, the string array, and then use the boolean array to assign \"Pass\" or \"Fail\" labels to the string array. Finally, print the resulting array.\n",
        "\n"
      ]
    },
    {
      "cell_type": "code",
      "metadata": {
        "colab": {
          "base_uri": "https://localhost:8080/"
        },
        "id": "e8bc6fb3",
        "outputId": "4d0850a6-4188-4e90-e681-b3c383e63596"
      },
      "source": [
        "pass_fail_boolean = grades_array >= 50\n",
        "pass_fail_labels = np.empty(grades_array.shape, dtype=str)\n",
        "pass_fail_labels[pass_fail_boolean] = \"Pass\"\n",
        "pass_fail_labels[~pass_fail_boolean] = \"Fail\"\n",
        "\n",
        "print(\"Categorized Grades:\", pass_fail_labels)"
      ],
      "execution_count": null,
      "outputs": [
        {
          "output_type": "stream",
          "name": "stdout",
          "text": [
            "Categorized Grades: ['P' 'P' 'F' 'P' 'P' 'P' 'F' 'P' 'P' 'P']\n"
          ]
        }
      ]
    },
    {
      "cell_type": "markdown",
      "metadata": {
        "id": "03d1ad80"
      },
      "source": [
        "**Reasoning**:\n",
        "The previous output shows that the strings are truncated to single characters. This is because the `dtype=str` in `np.empty` defaults to a string of length 1. To fix this, the dtype should be set to 'U4' to accommodate the strings \"Pass\" and \"Fail\". After fixing the string truncation, the subtask is completed.\n",
        "\n"
      ]
    },
    {
      "cell_type": "code",
      "metadata": {
        "colab": {
          "base_uri": "https://localhost:8080/"
        },
        "id": "cad95a42",
        "outputId": "fc6c2fed-a9e1-4fc3-fae7-fa428a8f8bba"
      },
      "source": [
        "pass_fail_boolean = grades_array >= 50\n",
        "pass_fail_labels = np.empty(grades_array.shape, dtype='U4')\n",
        "pass_fail_labels[pass_fail_boolean] = \"Pass\"\n",
        "pass_fail_labels[~pass_fail_boolean] = \"Fail\"\n",
        "\n",
        "print(\"Categorized Grades:\", pass_fail_labels)"
      ],
      "execution_count": null,
      "outputs": [
        {
          "output_type": "stream",
          "name": "stdout",
          "text": [
            "Categorized Grades: ['Pass' 'Pass' 'Fail' 'Pass' 'Pass' 'Pass' 'Fail' 'Pass' 'Pass' 'Pass']\n"
          ]
        }
      ]
    },
    {
      "cell_type": "markdown",
      "metadata": {
        "id": "37c5a15e"
      },
      "source": [
        "## Data analysis\n",
        "\n",
        "### Subtask:\n",
        "Perform detailed analysis of the categorized grades using pandas and numpy, such as counting the number of passes and failures, and calculating statistics.\n"
      ]
    },
    {
      "cell_type": "markdown",
      "metadata": {
        "id": "9ff3f5e4"
      },
      "source": [
        "**Reasoning**:\n",
        "Count the occurrences of \"Pass\" and \"Fail\" in the `pass_fail_labels` array using NumPy and print the results.\n",
        "\n"
      ]
    },
    {
      "cell_type": "code",
      "metadata": {
        "colab": {
          "base_uri": "https://localhost:8080/"
        },
        "id": "0a470004",
        "outputId": "50668388-82a3-429d-bf13-38e6e3596644"
      },
      "source": [
        "pass_count = np.sum(pass_fail_labels == \"Pass\")\n",
        "fail_count = np.sum(pass_fail_labels == \"Fail\")\n",
        "\n",
        "print(\"Number of Passes:\", pass_count)\n",
        "print(\"Number of Failures:\", fail_count)"
      ],
      "execution_count": null,
      "outputs": [
        {
          "output_type": "stream",
          "name": "stdout",
          "text": [
            "Number of Passes: 8\n",
            "Number of Failures: 2\n"
          ]
        }
      ]
    },
    {
      "cell_type": "markdown",
      "metadata": {
        "id": "5938afe0"
      },
      "source": [
        "## Summary:\n",
        "\n",
        "### Data Analysis Key Findings\n",
        "\n",
        "*   A list of 10 student grades was created and converted into a NumPy array.\n",
        "*   The student grades were successfully categorized as \"Pass\" or \"Fail\" based on a passing score of 50.\n",
        "*   The number of passes was found to be 8, and the number of failures was 2.\n",
        "\n",
        "### Insights or Next Steps\n",
        "\n",
        "*   The categorized grades can be further analyzed to calculate the pass rate percentage.\n",
        "*   Additional statistical analysis could be performed on the original numerical grades, such as calculating the average, median, or standard deviation.\n"
      ]
    }
  ]
}