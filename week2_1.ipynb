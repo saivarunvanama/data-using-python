{
  "nbformat": 4,
  "nbformat_minor": 0,
  "metadata": {
    "colab": {
      "provenance": [],
      "authorship_tag": "ABX9TyOkfR102RhubaQyLiYg02jg",
      "include_colab_link": true
    },
    "kernelspec": {
      "name": "python3",
      "display_name": "Python 3"
    },
    "language_info": {
      "name": "python"
    }
  },
  "cells": [
    {
      "cell_type": "markdown",
      "metadata": {
        "id": "view-in-github",
        "colab_type": "text"
      },
      "source": [
        "<a href=\"https://colab.research.google.com/github/saivarunvanama/data-using-python/blob/main/week2_1.ipynb\" target=\"_parent\"><img src=\"https://colab.research.google.com/assets/colab-badge.svg\" alt=\"Open In Colab\"/></a>"
      ]
    },
    {
      "cell_type": "markdown",
      "metadata": {
        "id": "aca0c885"
      },
      "source": [
        "# Task\n",
        "Analyze the provided financial data for a retail chain with three stores and three product categories. Construct revenue and expense matrices, calculate the net revenue for each store and category, and adjust the revenue figures for an 8% inflation factor."
      ]
    },
    {
      "cell_type": "markdown",
      "metadata": {
        "id": "40ba4fdb"
      },
      "source": [
        "## Revenue matrix preparation\n",
        "\n",
        "### Subtask:\n",
        "Construct a 3x3 matrix representing the monthly revenue for each store and product category.\n"
      ]
    },
    {
      "cell_type": "markdown",
      "metadata": {
        "id": "36c6b99f"
      },
      "source": [
        "**Reasoning**:\n",
        "Create a 3x3 matrix to represent the monthly revenue for each store and product category using a Python list of lists.\n",
        "\n"
      ]
    },
    {
      "cell_type": "code",
      "metadata": {
        "id": "b416ef34"
      },
      "source": [
        "revenue_matrix = [\n",
        "    [10000, 15000, 12000],  # Store 1: Category 1, Category 2, Category 3\n",
        "    [8000, 11000, 9000],   # Store 2: Category 1, Category 2, Category 3\n",
        "    [12000, 13000, 10000]  # Store 3: Category 1, Category 2, Category 3\n",
        "]"
      ],
      "execution_count": null,
      "outputs": []
    },
    {
      "cell_type": "markdown",
      "metadata": {
        "id": "c7a64707"
      },
      "source": [
        "## Expenses matrix preparation\n",
        "\n",
        "### Subtask:\n",
        "Build a 3x3 matrix containing the monthly operational expenses for each store and product category.\n"
      ]
    },
    {
      "cell_type": "markdown",
      "metadata": {
        "id": "3dd1a9a8"
      },
      "source": [
        "**Reasoning**:\n",
        "Create a list of lists representing the expenses matrix and populate it with hypothetical data.\n",
        "\n"
      ]
    },
    {
      "cell_type": "code",
      "metadata": {
        "id": "27fae71a"
      },
      "source": [
        "expenses_matrix = [\n",
        "    [5000, 6000, 5500],  # Store 1: Category 1, Category 2, Category 3\n",
        "    [4000, 4500, 4200],  # Store 2: Category 1, Category 2, Category 3\n",
        "    [5500, 5800, 5000]   # Store 3: Category 1, Category 2, Category 3\n",
        "]"
      ],
      "execution_count": null,
      "outputs": []
    },
    {
      "cell_type": "markdown",
      "metadata": {
        "id": "13a9a6a3"
      },
      "source": [
        "## Calculate net revenue\n",
        "\n",
        "### Subtask:\n",
        "Determine the net revenue for each category in each store by subtracting the expenses matrix from the revenue matrix.\n"
      ]
    },
    {
      "cell_type": "markdown",
      "metadata": {
        "id": "cbde3c08"
      },
      "source": [
        "**Reasoning**:\n",
        "Iterate through the revenue and expenses matrices to calculate the net revenue for each element.\n",
        "\n"
      ]
    },
    {
      "cell_type": "code",
      "metadata": {
        "id": "13ef9532"
      },
      "source": [
        "net_revenue_matrix = []\n",
        "for i in range(len(revenue_matrix)):\n",
        "    row = []\n",
        "    for j in range(len(revenue_matrix[0])):\n",
        "        net_revenue = revenue_matrix[i][j] - expenses_matrix[i][j]\n",
        "        row.append(net_revenue)\n",
        "    net_revenue_matrix.append(row)\n",
        "\n",
        "print(\"Net Revenue Matrix:\")\n",
        "for row in net_revenue_matrix:\n",
        "    print(row)"
      ],
      "execution_count": null,
      "outputs": []
    },
    {
      "cell_type": "markdown",
      "metadata": {
        "id": "0f0b9e8e"
      },
      "source": [
        "## Adjust for inflation\n",
        "\n",
        "### Subtask:\n",
        "Apply an inflation factor of 8% to the revenue figures to simulate future pricing and analyze the effect of inflation on earnings.\n"
      ]
    },
    {
      "cell_type": "markdown",
      "metadata": {
        "id": "d9d56a2c"
      },
      "source": [
        "**Reasoning**:\n",
        "Apply an 8% inflation factor to the revenue matrix to create the inflated revenue matrix.\n",
        "\n"
      ]
    },
    {
      "cell_type": "code",
      "metadata": {
        "id": "3b0b89de"
      },
      "source": [
        "inflated_revenue_matrix = []\n",
        "for row in revenue_matrix:\n",
        "    inflated_row = []\n",
        "    for revenue in row:\n",
        "        inflated_revenue = revenue * 1.08\n",
        "        inflated_row.append(inflated_revenue)\n",
        "    inflated_revenue_matrix.append(inflated_row)\n",
        "\n",
        "print(\"Inflated Revenue Matrix:\")\n",
        "for row in inflated_revenue_matrix:\n",
        "    print(row)"
      ],
      "execution_count": null,
      "outputs": []
    },
    {
      "cell_type": "markdown",
      "metadata": {
        "id": "05f147e1"
      },
      "source": [
        "## Summary:\n",
        "\n",
        "### Data Analysis Key Findings\n",
        "\n",
        "*   The calculated net revenue matrix shows the profitability for each store and product category combination. For example, Store 1: Category 1 has a net revenue of \\$5000 (\\$10000 - \\$5000), Store 2: Category 2 has a net revenue of \\$6500 (\\$11000 - \\$4500), and Store 3: Category 3 has a net revenue of \\$5000 (\\$10000 - \\$5000).\n",
        "*   Applying an 8% inflation factor to the original revenue results in an inflated revenue matrix. For instance, the original revenue for Store 1: Category 1 of \\$10000 increases to \\$10800, Store 2: Category 2's \\$11000 increases to \\$11880, and Store 3: Category 3's \\$10000 increases to \\$10800.\n",
        "\n",
        "### Insights or Next Steps\n",
        "\n",
        "*   Analyze the net revenue matrix to identify the most and least profitable store and category combinations. This could inform decisions about resource allocation or strategies for underperforming areas.\n",
        "*   Calculate the net revenue using the inflated revenue figures to understand the potential impact of inflation on profitability if expenses remain constant.\n"
      ]
    }
  ]
}