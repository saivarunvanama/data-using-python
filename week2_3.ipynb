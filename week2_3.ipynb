{
  "nbformat": 4,
  "nbformat_minor": 0,
  "metadata": {
    "colab": {
      "provenance": [],
      "authorship_tag": "ABX9TyNShj25YmhCrSEEw7fSCePo",
      "include_colab_link": true
    },
    "kernelspec": {
      "name": "python3",
      "display_name": "Python 3"
    },
    "language_info": {
      "name": "python"
    }
  },
  "cells": [
    {
      "cell_type": "markdown",
      "metadata": {
        "id": "view-in-github",
        "colab_type": "text"
      },
      "source": [
        "<a href=\"https://colab.research.google.com/github/saivarunvanama/data-using-python/blob/main/week2_3.ipynb\" target=\"_parent\"><img src=\"https://colab.research.google.com/assets/colab-badge.svg\" alt=\"Open In Colab\"/></a>"
      ]
    },
    {
      "cell_type": "markdown",
      "metadata": {
        "id": "a629863c"
      },
      "source": [
        "# Task\n",
        "Analyze student test performance by creating original score and bonus matrices, calculating final scores with bonuses and penalties, and transposing the final scores matrix."
      ]
    },
    {
      "cell_type": "markdown",
      "metadata": {
        "id": "d56de1fc"
      },
      "source": [
        "## Create original score matrix\n",
        "\n",
        "### Subtask:\n",
        "Generate a 3x3 matrix representing the original scores of students in different subjects.\n"
      ]
    },
    {
      "cell_type": "markdown",
      "metadata": {
        "id": "f5a61866"
      },
      "source": [
        "**Reasoning**:\n",
        "The first step is to import the numpy library and create the 3x3 matrix as instructed.\n",
        "\n"
      ]
    },
    {
      "cell_type": "code",
      "metadata": {
        "colab": {
          "base_uri": "https://localhost:8080/"
        },
        "id": "68c856d6",
        "outputId": "2d95a522-b6e2-437a-b637-7d750e8e52b3"
      },
      "source": [
        "import numpy as np\n",
        "\n",
        "original_scores = np.array([[85, 90, 78],\n",
        "                            [92, 88, 95],\n",
        "                            [76, 85, 80]])\n",
        "print(original_scores)"
      ],
      "execution_count": 2,
      "outputs": [
        {
          "output_type": "stream",
          "name": "stdout",
          "text": [
            "[[85 90 78]\n",
            " [92 88 95]\n",
            " [76 85 80]]\n"
          ]
        }
      ]
    },
    {
      "cell_type": "markdown",
      "metadata": {
        "id": "c2931fa1"
      },
      "source": [
        "## Design bonus marks matrix\n",
        "\n",
        "### Subtask:\n",
        "Generate a 3x3 matrix representing the bonus marks awarded to students in different subjects.\n"
      ]
    },
    {
      "cell_type": "markdown",
      "metadata": {
        "id": "0aab1928"
      },
      "source": [
        "**Reasoning**:\n",
        "Create a 3x3 NumPy array for bonus marks and print it.\n",
        "\n"
      ]
    },
    {
      "cell_type": "code",
      "metadata": {
        "colab": {
          "base_uri": "https://localhost:8080/"
        },
        "id": "19d77e5c",
        "outputId": "ed5e7c83-14ad-4d79-e6c2-d244c9404dc2"
      },
      "source": [
        "bonus_marks = np.array([[5, 3, 7],\n",
        "                       [6, 4, 8],\n",
        "                       [2, 5, 3]])\n",
        "print(bonus_marks)"
      ],
      "execution_count": 3,
      "outputs": [
        {
          "output_type": "stream",
          "name": "stdout",
          "text": [
            "[[5 3 7]\n",
            " [6 4 8]\n",
            " [2 5 3]]\n"
          ]
        }
      ]
    },
    {
      "cell_type": "markdown",
      "metadata": {
        "id": "e2ca08ba"
      },
      "source": [
        "## Calculate final scores with bonuses\n",
        "\n",
        "### Subtask:\n",
        "Add the bonus marks matrix to the original score matrix to get the scores after adding bonuses.\n"
      ]
    },
    {
      "cell_type": "markdown",
      "metadata": {
        "id": "3718cf23"
      },
      "source": [
        "**Reasoning**:\n",
        "Add the `original_scores` and `bonus_marks` matrices and store the result in `scores_with_bonuses`. Then print the result to verify.\n",
        "\n"
      ]
    },
    {
      "cell_type": "code",
      "metadata": {
        "colab": {
          "base_uri": "https://localhost:8080/"
        },
        "id": "8fa813bd",
        "outputId": "da5f2085-69ad-47ed-903c-f5f38853cc15"
      },
      "source": [
        "scores_with_bonuses = original_scores + bonus_marks\n",
        "print(scores_with_bonuses)"
      ],
      "execution_count": 4,
      "outputs": [
        {
          "output_type": "stream",
          "name": "stdout",
          "text": [
            "[[ 90  93  85]\n",
            " [ 98  92 103]\n",
            " [ 78  90  83]]\n"
          ]
        }
      ]
    },
    {
      "cell_type": "markdown",
      "metadata": {
        "id": "f1afb6f7"
      },
      "source": [
        "## Apply penalty for late submissions\n",
        "\n",
        "### Subtask:\n",
        "Multiply the scores (with bonuses) by a penalty factor to simulate a penalty for late submissions.\n"
      ]
    },
    {
      "cell_type": "markdown",
      "metadata": {
        "id": "884c9377"
      },
      "source": [
        "**Reasoning**:\n",
        "Define the penalty factor, multiply the scores with bonuses by the penalty factor, store the result, and print the final scores.\n",
        "\n"
      ]
    },
    {
      "cell_type": "code",
      "metadata": {
        "colab": {
          "base_uri": "https://localhost:8080/"
        },
        "id": "a48ea92e",
        "outputId": "69b38a57-46d2-4e9a-ac71-7ab2deb91d34"
      },
      "source": [
        "penalty_factor = 0.9\n",
        "final_scores = scores_with_bonuses * penalty_factor\n",
        "print(final_scores)"
      ],
      "execution_count": 5,
      "outputs": [
        {
          "output_type": "stream",
          "name": "stdout",
          "text": [
            "[[81.  83.7 76.5]\n",
            " [88.2 82.8 92.7]\n",
            " [70.2 81.  74.7]]\n"
          ]
        }
      ]
    },
    {
      "cell_type": "markdown",
      "metadata": {
        "id": "641971fb"
      },
      "source": [
        "## Transpose the final scores matrix\n",
        "\n",
        "### Subtask:\n",
        "Transpose the final scores matrix to easily analyze performance by subject.\n"
      ]
    },
    {
      "cell_type": "markdown",
      "metadata": {
        "id": "7ba05dc1"
      },
      "source": [
        "**Reasoning**:\n",
        "Transpose the final scores matrix and print the result.\n",
        "\n"
      ]
    },
    {
      "cell_type": "code",
      "metadata": {
        "colab": {
          "base_uri": "https://localhost:8080/"
        },
        "id": "196f6661",
        "outputId": "95261637-ae49-44c6-c406-9666f305c0d4"
      },
      "source": [
        "transposed_final_scores = final_scores.T\n",
        "print(transposed_final_scores)"
      ],
      "execution_count": 6,
      "outputs": [
        {
          "output_type": "stream",
          "name": "stdout",
          "text": [
            "[[81.  88.2 70.2]\n",
            " [83.7 82.8 81. ]\n",
            " [76.5 92.7 74.7]]\n"
          ]
        }
      ]
    },
    {
      "cell_type": "markdown",
      "metadata": {
        "id": "f505549c"
      },
      "source": [
        "## Summary:\n",
        "\n",
        "### Data Analysis Key Findings\n",
        "\n",
        "*   The original scores matrix was created as a 3x3 array: \\begin{bmatrix} 85 & 90 & 78 \\\\ 92 & 88 & 95 \\\\ 76 & 85 & 80 \\end{bmatrix}.\n",
        "*   The bonus marks matrix was created as a 3x3 array: \\begin{bmatrix} 5 & 3 & 7 \\\\ 6 & 4 & 8 \\\\ 2 & 5 & 3 \\end{bmatrix}.\n",
        "*   The scores after adding bonuses were calculated by adding the original scores and bonus marks matrices element-wise: \\begin{bmatrix} 90 & 93 & 85 \\\\ 98 & 92 & 103 \\\\ 78 & 90 & 83 \\end{bmatrix}.\n",
        "*   A penalty factor of 0.9 was applied to the scores with bonuses, resulting in the final scores matrix: \\begin{bmatrix} 81.0 & 83.7 & 76.5 \\\\ 88.2 & 82.8 & 92.7 \\\\ 70.2 & 81.0 & 74.7 \\end{bmatrix}.\n",
        "*   The final scores matrix was transposed to facilitate analysis by subject: \\begin{bmatrix} 81.0 & 88.2 & 70.2 \\\\ 83.7 & 82.8 & 81.0 \\\\ 76.5 & 92.7 & 74.7 \\end{bmatrix}.\n",
        "\n",
        "### Insights or Next Steps\n",
        "\n",
        "*   The transposed matrix allows for a quick comparison of how different students performed in each specific subject after all adjustments.\n",
        "*   Further analysis could involve calculating average scores per subject or per student from the transposed matrix to identify areas of strength or weakness.\n"
      ]
    }
  ]
}